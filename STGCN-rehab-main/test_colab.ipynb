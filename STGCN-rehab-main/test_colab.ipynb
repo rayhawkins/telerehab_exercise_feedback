{
 "cells": [
  {
   "cell_type": "code",
   "execution_count": null,
   "metadata": {
    "collapsed": true
   },
   "outputs": [],
   "source": [
    "# Mount google drive\n",
    "from google.colab import drive\n",
    "drive.mount('/content/drive')"
   ]
  },
  {
   "cell_type": "code",
   "execution_count": null,
   "outputs": [],
   "source": [
    "# Install package dependencies\n"
   ],
   "metadata": {
    "collapsed": false
   }
  },
  {
   "cell_type": "code",
   "execution_count": null,
   "outputs": [],
   "source": [
    "import numpy as np\n",
    "import os\n",
    "random_seed = 42  # for reproducibility\n",
    "import tensorflow as tf\n",
    "from tensorflow.keras.optimizers import *\n",
    "# import matplotlib.pyplot as plt\n",
    "from math import sqrt\n",
    "from GCN.data_processing import Data_Loader\n",
    "from GCN.graph import Graph\n",
    "from GCN.sgcn_lstm import Sgcn_Lstm\n",
    "import pandas as pd"
   ],
   "metadata": {
    "collapsed": false
   }
  },
  {
   "cell_type": "code",
   "execution_count": null,
   "outputs": [],
   "source": [
    "def calculate_accuracy(y_true, y_pred):\n",
    "    return np.sum(y_true == y_pred) / len(y_true)\n",
    "\n",
    "def calculate_F1_score(y_true, y_pred):\n",
    "    TP = 0\n",
    "    FP = 0\n",
    "    FN = 0\n",
    "    for t, this_label in enumerate(y_pred):\n",
    "        if this_label == 1:\n",
    "            if this_label == y_true[t]:\n",
    "                TP += 1\n",
    "            else:\n",
    "                FP += 1\n",
    "        elif this_label != y_true[t]:\n",
    "            FN += 1\n",
    "\n",
    "    precision = TP / (TP + FP)\n",
    "    recall = TP / (TP + FN)\n",
    "    F1 = 2. * (precision * recall) / (precision + recall)\n",
    "    return F1, precision, recall"
   ],
   "metadata": {
    "collapsed": false
   }
  },
  {
   "cell_type": "code",
   "execution_count": null,
   "outputs": [],
   "source": [
    "# Go through k-fold validation and load/apply all networks then store in pandas dataframe\n",
    "data_dir = \"/content/\"\n",
    "networks_dir = \"/content/\"\n",
    "\n",
    "# Set up columns for the dataframe\n",
    "accuracies = []\n",
    "precisions = []\n",
    "recalls = []\n",
    "F1s = []\n",
    "folds = []\n",
    "exercises = []\n",
    "\n",
    "# Storage for predictions and GT labels, list of lists of shape [n_folds, n_exercises, 3, n_test_samples]\n",
    "# shape 3 comes from [gt labels, predicted probabilities, predicted classes\n",
    "results = []\n",
    "for this_fold in os.listdir(data_dir):\n",
    "    fold_folder = os.path.join(data_dir, this_fold)\n",
    "    if not os.path.isdir(this_fold):\n",
    "        continue\n",
    "    results.append([])\n",
    "    for this_network in os.listdir(fold_folder):\n",
    "        if os.path.splitext(this_network)[1] != '.hdf5':\n",
    "            continue\n",
    "\n",
    "        network_path = os.path.join(networks_dir, this_fold, this_network)\n",
    "\n",
    "        test_data_loader = Data_Loader(data_dir, False)  # load the data\n",
    "        graph = Graph(len(test_data_loader.body_part))  # create the graph data structure\n",
    "        test_x, test_y = test_data_loader.scaled_x, test_data_loader.scaled_y  # get the scaled testing data\n",
    "\n",
    "        # create the model and load the weights\n",
    "        algorithm = Sgcn_Lstm(test_x, test_y, graph.AD, graph.AD2, graph.bias_mat_1, graph.bias_mat_2)\n",
    "        algorithm.create_model()\n",
    "        algorithm.model.load_weights(network_path)\n",
    "\n",
    "        # apply the model\n",
    "        y_probs = algorithm.prediction(test_x)\n",
    "        y_pred = np.argmax(y_probs, axis=1)\n",
    "        test_y = np.squeeze(test_y)\n",
    "        test_y = np.argmax(test_y, axis=1)\n",
    "        results[-1].append([test_y, y_probs, y_pred])\n",
    "\n",
    "        # make some measurements\n",
    "        acc = calculate_accuracy(test_y, y_pred)\n",
    "        F1, precision, recall = calculate_F1_score(test_y, y_pred)\n",
    "\n",
    "        folds.append(int(this_fold.split(\"_\")[1]))\n",
    "        exercises.append(os.path.splitext(this_network)[0-].split(\"_\")[1])\n",
    "        accuracies.append(acc)\n",
    "        precisions.append(precision)\n",
    "        recalls.append(recall)\n",
    "        F1s.append(F1)\n",
    "\n",
    "# Combine into a pandas dataframe\n",
    "df = pd.DataFrame({\"fold\": folds, \"exercise\": exercises, \"precision\": precisions, \"recall\": recalls, \"accuracy\": accuracies, \"F1\": F1s})"
   ],
   "metadata": {
    "collapsed": false
   }
  }
 ],
 "metadata": {
  "kernelspec": {
   "display_name": "Python 3",
   "language": "python",
   "name": "python3"
  },
  "language_info": {
   "codemirror_mode": {
    "name": "ipython",
    "version": 2
   },
   "file_extension": ".py",
   "mimetype": "text/x-python",
   "name": "python",
   "nbconvert_exporter": "python",
   "pygments_lexer": "ipython2",
   "version": "2.7.6"
  }
 },
 "nbformat": 4,
 "nbformat_minor": 0
}
